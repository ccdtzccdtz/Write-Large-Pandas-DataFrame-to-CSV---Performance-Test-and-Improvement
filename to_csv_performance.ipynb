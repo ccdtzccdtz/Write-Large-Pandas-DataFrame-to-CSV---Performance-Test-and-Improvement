{
 "cells": [
  {
   "cell_type": "markdown",
   "metadata": {},
   "source": [
    "# Write Large Pandas DataFrame to CSV - Performance Test and Improvement"
   ]
  },
  {
   "cell_type": "markdown",
   "metadata": {},
   "source": [
    "The `pd.to_csv` function is a common way to conveniently write dataframe content to txt file such as csv. It is normally very efficient but will suffer slowness when handling large dataframe. Some alternative code pieces are introduced in this test and compared with the default `pd.to_csv` performance."
   ]
  },
  {
   "cell_type": "markdown",
   "metadata": {},
   "source": [
    "## Load Libraries"
   ]
  },
  {
   "cell_type": "code",
   "execution_count": 6,
   "metadata": {},
   "outputs": [
    {
     "name": "stdout",
     "output_type": "stream",
     "text": [
      "The Cython extension is already loaded. To reload it, use:\n",
      "  %reload_ext Cython\n"
     ]
    }
   ],
   "source": [
    "import pandas as pd\n",
    "import numpy as np\n",
    "import csv\n",
    "import copy\n",
    "%load_ext Cython"
   ]
  },
  {
   "cell_type": "markdown",
   "metadata": {},
   "source": [
    "## Create Dataframe"
   ]
  },
  {
   "cell_type": "code",
   "execution_count": 7,
   "metadata": {},
   "outputs": [
    {
     "data": {
      "text/html": [
       "<div>\n",
       "<style>\n",
       "    .dataframe thead tr:only-child th {\n",
       "        text-align: right;\n",
       "    }\n",
       "\n",
       "    .dataframe thead th {\n",
       "        text-align: left;\n",
       "    }\n",
       "\n",
       "    .dataframe tbody tr th {\n",
       "        vertical-align: top;\n",
       "    }\n",
       "</style>\n",
       "<table border=\"1\" class=\"dataframe\">\n",
       "  <thead>\n",
       "    <tr style=\"text-align: right;\">\n",
       "      <th></th>\n",
       "      <th>0</th>\n",
       "      <th>1</th>\n",
       "      <th>2</th>\n",
       "      <th>3</th>\n",
       "      <th>4</th>\n",
       "      <th>5</th>\n",
       "      <th>6</th>\n",
       "      <th>7</th>\n",
       "      <th>8</th>\n",
       "      <th>9</th>\n",
       "      <th>10</th>\n",
       "      <th>11</th>\n",
       "      <th>12</th>\n",
       "      <th>13</th>\n",
       "      <th>14</th>\n",
       "      <th>15</th>\n",
       "      <th>16</th>\n",
       "      <th>17</th>\n",
       "      <th>18</th>\n",
       "      <th>19</th>\n",
       "    </tr>\n",
       "  </thead>\n",
       "  <tbody>\n",
       "    <tr>\n",
       "      <th>0</th>\n",
       "      <td>-0.906642</td>\n",
       "      <td>-0.861386</td>\n",
       "      <td>0.614656</td>\n",
       "      <td>-0.907063</td>\n",
       "      <td>0.594934</td>\n",
       "      <td>-0.207979</td>\n",
       "      <td>3.481780</td>\n",
       "      <td>0.819977</td>\n",
       "      <td>-0.565264</td>\n",
       "      <td>-0.332090</td>\n",
       "      <td>-0.784525</td>\n",
       "      <td>-0.293207</td>\n",
       "      <td>1.224856</td>\n",
       "      <td>-2.319758</td>\n",
       "      <td>1.178547</td>\n",
       "      <td>-0.515090</td>\n",
       "      <td>0.709837</td>\n",
       "      <td>-1.091345</td>\n",
       "      <td>-0.039718</td>\n",
       "      <td>2.091454</td>\n",
       "    </tr>\n",
       "    <tr>\n",
       "      <th>1</th>\n",
       "      <td>2.613523</td>\n",
       "      <td>0.785575</td>\n",
       "      <td>-1.775879</td>\n",
       "      <td>-0.459838</td>\n",
       "      <td>1.902544</td>\n",
       "      <td>0.509347</td>\n",
       "      <td>0.020503</td>\n",
       "      <td>-1.791932</td>\n",
       "      <td>0.647267</td>\n",
       "      <td>-0.934782</td>\n",
       "      <td>-0.677657</td>\n",
       "      <td>0.492583</td>\n",
       "      <td>-1.002009</td>\n",
       "      <td>-0.730491</td>\n",
       "      <td>-0.624470</td>\n",
       "      <td>-2.488585</td>\n",
       "      <td>1.016912</td>\n",
       "      <td>0.906007</td>\n",
       "      <td>0.658830</td>\n",
       "      <td>-0.264958</td>\n",
       "    </tr>\n",
       "    <tr>\n",
       "      <th>2</th>\n",
       "      <td>-0.036129</td>\n",
       "      <td>-1.746564</td>\n",
       "      <td>-0.140750</td>\n",
       "      <td>0.663674</td>\n",
       "      <td>0.094645</td>\n",
       "      <td>0.049312</td>\n",
       "      <td>-0.632624</td>\n",
       "      <td>-0.550121</td>\n",
       "      <td>0.395835</td>\n",
       "      <td>-1.423970</td>\n",
       "      <td>-0.521202</td>\n",
       "      <td>-0.126024</td>\n",
       "      <td>0.229703</td>\n",
       "      <td>1.164841</td>\n",
       "      <td>0.697109</td>\n",
       "      <td>0.917896</td>\n",
       "      <td>0.880719</td>\n",
       "      <td>1.236428</td>\n",
       "      <td>0.837311</td>\n",
       "      <td>0.079312</td>\n",
       "    </tr>\n",
       "    <tr>\n",
       "      <th>3</th>\n",
       "      <td>-2.400462</td>\n",
       "      <td>-0.155776</td>\n",
       "      <td>-0.130211</td>\n",
       "      <td>1.515387</td>\n",
       "      <td>-0.157206</td>\n",
       "      <td>1.249488</td>\n",
       "      <td>-0.328810</td>\n",
       "      <td>-0.701600</td>\n",
       "      <td>-0.961956</td>\n",
       "      <td>-0.752843</td>\n",
       "      <td>-0.629910</td>\n",
       "      <td>-0.116808</td>\n",
       "      <td>0.340790</td>\n",
       "      <td>0.127246</td>\n",
       "      <td>-0.761531</td>\n",
       "      <td>-1.207977</td>\n",
       "      <td>-0.707612</td>\n",
       "      <td>-1.860185</td>\n",
       "      <td>-1.287765</td>\n",
       "      <td>1.415692</td>\n",
       "    </tr>\n",
       "    <tr>\n",
       "      <th>4</th>\n",
       "      <td>-0.049455</td>\n",
       "      <td>2.054475</td>\n",
       "      <td>-1.809350</td>\n",
       "      <td>-1.523187</td>\n",
       "      <td>0.602191</td>\n",
       "      <td>0.167721</td>\n",
       "      <td>-0.311740</td>\n",
       "      <td>0.626712</td>\n",
       "      <td>0.642302</td>\n",
       "      <td>0.154328</td>\n",
       "      <td>0.237725</td>\n",
       "      <td>0.307409</td>\n",
       "      <td>1.110008</td>\n",
       "      <td>-0.419831</td>\n",
       "      <td>1.120733</td>\n",
       "      <td>-1.385226</td>\n",
       "      <td>1.827813</td>\n",
       "      <td>1.175392</td>\n",
       "      <td>-0.149792</td>\n",
       "      <td>-1.231708</td>\n",
       "    </tr>\n",
       "  </tbody>\n",
       "</table>\n",
       "</div>"
      ],
      "text/plain": [
       "         0         1         2         3         4         5         6   \\\n",
       "0 -0.906642 -0.861386  0.614656 -0.907063  0.594934 -0.207979  3.481780   \n",
       "1  2.613523  0.785575 -1.775879 -0.459838  1.902544  0.509347  0.020503   \n",
       "2 -0.036129 -1.746564 -0.140750  0.663674  0.094645  0.049312 -0.632624   \n",
       "3 -2.400462 -0.155776 -0.130211  1.515387 -0.157206  1.249488 -0.328810   \n",
       "4 -0.049455  2.054475 -1.809350 -1.523187  0.602191  0.167721 -0.311740   \n",
       "\n",
       "         7         8         9         10        11        12        13  \\\n",
       "0  0.819977 -0.565264 -0.332090 -0.784525 -0.293207  1.224856 -2.319758   \n",
       "1 -1.791932  0.647267 -0.934782 -0.677657  0.492583 -1.002009 -0.730491   \n",
       "2 -0.550121  0.395835 -1.423970 -0.521202 -0.126024  0.229703  1.164841   \n",
       "3 -0.701600 -0.961956 -0.752843 -0.629910 -0.116808  0.340790  0.127246   \n",
       "4  0.626712  0.642302  0.154328  0.237725  0.307409  1.110008 -0.419831   \n",
       "\n",
       "         14        15        16        17        18        19  \n",
       "0  1.178547 -0.515090  0.709837 -1.091345 -0.039718  2.091454  \n",
       "1 -0.624470 -2.488585  1.016912  0.906007  0.658830 -0.264958  \n",
       "2  0.697109  0.917896  0.880719  1.236428  0.837311  0.079312  \n",
       "3 -0.761531 -1.207977 -0.707612 -1.860185 -1.287765  1.415692  \n",
       "4  1.120733 -1.385226  1.827813  1.175392 -0.149792 -1.231708  "
      ]
     },
     "execution_count": 7,
     "metadata": {},
     "output_type": "execute_result"
    }
   ],
   "source": [
    "df = pd.DataFrame(np.random.randn(100000,20))\n",
    "df.head()"
   ]
  },
  {
   "cell_type": "markdown",
   "metadata": {},
   "source": [
    "## Performance Test"
   ]
  },
  {
   "cell_type": "markdown",
   "metadata": {},
   "source": [
    "### Use Pandas to_csv"
   ]
  },
  {
   "cell_type": "code",
   "execution_count": 8,
   "metadata": {},
   "outputs": [
    {
     "name": "stdout",
     "output_type": "stream",
     "text": [
      "1 loop, best of 3: 2.96 s per loop\n"
     ]
    }
   ],
   "source": [
    "%timeit -r3 df.to_csv('tocsv.csv',index=False,float_format='%10.11f') "
   ]
  },
  {
   "cell_type": "markdown",
   "metadata": {},
   "source": [
    "### Use Numpy savetxt"
   ]
  },
  {
   "cell_type": "markdown",
   "metadata": {},
   "source": [
    "The idea is to convert dataframe to ndarray and save to txt file"
   ]
  },
  {
   "cell_type": "code",
   "execution_count": 9,
   "metadata": {},
   "outputs": [
    {
     "name": "stdout",
     "output_type": "stream",
     "text": [
      "1 loop, best of 3: 784 ms per loop\n"
     ]
    }
   ],
   "source": [
    "%timeit -r3 np.savetxt(\"numpytotxt.csv\", df.values, delimiter=\",\",fmt='%10.11f')"
   ]
  },
  {
   "cell_type": "markdown",
   "metadata": {},
   "source": [
    "### Use one-liner string and combined with Numpy tofile"
   ]
  },
  {
   "cell_type": "markdown",
   "metadata": {},
   "source": [
    "The idea is to combine all field to a big string column and only write that column to csv."
   ]
  },
  {
   "cell_type": "code",
   "execution_count": 10,
   "metadata": {
    "collapsed": true
   },
   "outputs": [],
   "source": [
    "def oneliner(df,str_format=True):\n",
    "    columns=list(df)\n",
    "    if not str_format:\n",
    "        df=df.astype(str)    \n",
    "    s=copy.copy(df[columns[0]])\n",
    "    for col in columns[1:]:\n",
    "        s+=\",\"+df[col]        \n",
    "    s.values.tofile('numpytotxt_oneliner.csv',sep='\\n')"
   ]
  },
  {
   "cell_type": "code",
   "execution_count": 11,
   "metadata": {},
   "outputs": [
    {
     "name": "stdout",
     "output_type": "stream",
     "text": [
      "1 loop, best of 3: 2.2 s per loop\n"
     ]
    }
   ],
   "source": [
    "%timeit -r3 oneliner(df,False)"
   ]
  },
  {
   "cell_type": "markdown",
   "metadata": {},
   "source": [
    "__This saved csv has quotes in each line. One may need to remove those to get a clean csv.__"
   ]
  },
  {
   "cell_type": "markdown",
   "metadata": {},
   "source": [
    "### Use one-liner string and combined with Python file.write function"
   ]
  },
  {
   "cell_type": "markdown",
   "metadata": {},
   "source": [
    "Use the same idea of combing columns to one string columns, and use \\n to join them into a large string. Use native python write file function"
   ]
  },
  {
   "cell_type": "code",
   "execution_count": 12,
   "metadata": {
    "collapsed": true
   },
   "outputs": [],
   "source": [
    "def df_to_string(df,str_format=True):\n",
    "    columns=list(df)\n",
    "    if not str_format:\n",
    "        df=df.astype(str)\n",
    "    s=copy.copy(df[columns[0]])\n",
    "    for col in columns[1:]:\n",
    "        s+=\",\"+df[col]\n",
    "    return '\\n'.join(s)\n",
    "def df_to_csv_one(df,str_format=True):\n",
    "    file='oneliner_write.csv'\n",
    "    with open(file,\"w\") as f:\n",
    "        f.write(df_to_string(df,str_format))"
   ]
  },
  {
   "cell_type": "code",
   "execution_count": 13,
   "metadata": {},
   "outputs": [
    {
     "name": "stdout",
     "output_type": "stream",
     "text": [
      "1 loop, best of 3: 2.21 s per loop\n"
     ]
    }
   ],
   "source": [
    "%timeit -r3 df_to_csv_one(df,False)"
   ]
  },
  {
   "cell_type": "markdown",
   "metadata": {},
   "source": [
    "### Use one-liner string and combined with Cython"
   ]
  },
  {
   "cell_type": "markdown",
   "metadata": {},
   "source": [
    "same idea with combine everything to a large string and use Cython to write to file"
   ]
  },
  {
   "cell_type": "code",
   "execution_count": 14,
   "metadata": {
    "collapsed": true
   },
   "outputs": [],
   "source": [
    "%%cython\n",
    "from libc.stdio cimport fopen, FILE, fclose, fprintf\n",
    "def c_write_to_file(filename, content):\n",
    "    filename_byte_string = filename.encode(\"UTF-8\")\n",
    "    cdef char* fname = filename_byte_string\n",
    "    cdef char* line = content\n",
    "    cdef FILE* cfile\n",
    "    cfile = fopen(fname, \"w\")\n",
    "    if cfile == NULL:\n",
    "        return\n",
    "    fprintf(cfile, line)\n",
    "    fclose(cfile)\n",
    "    return []\n"
   ]
  },
  {
   "cell_type": "code",
   "execution_count": 15,
   "metadata": {
    "collapsed": true
   },
   "outputs": [],
   "source": [
    "def df_to_csv_cython(df,str_format=True):\n",
    "    c_write_to_file('oneliner_cython.csv', df_to_string(df,str_format).encode(\"UTF-8\"))"
   ]
  },
  {
   "cell_type": "code",
   "execution_count": 16,
   "metadata": {},
   "outputs": [
    {
     "name": "stdout",
     "output_type": "stream",
     "text": [
      "1 loop, best of 3: 2.4 s per loop\n"
     ]
    }
   ],
   "source": [
    "%timeit -r3 df_to_csv_cython(df,False)"
   ]
  },
  {
   "cell_type": "markdown",
   "metadata": {},
   "source": [
    "### Test with Larger (10M,20) Dataframe"
   ]
  },
  {
   "cell_type": "code",
   "execution_count": 18,
   "metadata": {},
   "outputs": [
    {
     "name": "stdout",
     "output_type": "stream",
     "text": [
      "Pandas tocsv\n",
      "1 loop, best of 3: 4min 49s per loop\n",
      "Numpy savetxt\n",
      "1 loop, best of 3: 1min 15s per loop\n",
      "Oneliner with numpy tofile\n",
      "1 loop, best of 3: 3min 38s per loop\n",
      "Oneliner to string with Pyton f.write\n",
      "1 loop, best of 3: 3min 55s per loop\n",
      "Oneliner to string with Cython\n",
      "1 loop, best of 3: 3min 28s per loop\n"
     ]
    }
   ],
   "source": [
    "df = pd.DataFrame(np.random.randn(10000000,20))\n",
    "print(\"Pandas tocsv\")\n",
    "%timeit -r3 -n1 df.to_csv('tocsv.csv',index=False,float_format='%10.11f') \n",
    "print(\"Numpy savetxt\")\n",
    "%timeit -r3 -n1 np.savetxt(\"numpytotxt.csv\", df.values, delimiter=\",\",fmt='%10.11f')\n",
    "print(\"Oneliner with numpy tofile\")\n",
    "%timeit -r3 -n1 oneliner(df,False)\n",
    "print(\"Oneliner to string with Pyton f.write\")\n",
    "%timeit -r3 -n1 df_to_csv_one(df,False)\n",
    "print(\"Oneliner to string with Cython\")\n",
    "%timeit -r3 -n1 df_to_csv_cython(df,False)"
   ]
  },
  {
   "cell_type": "markdown",
   "metadata": {},
   "source": [
    "### Test with Larger and Narrow(50M,3) Dataframe (string)"
   ]
  },
  {
   "cell_type": "code",
   "execution_count": 17,
   "metadata": {
    "scrolled": true
   },
   "outputs": [
    {
     "name": "stdout",
     "output_type": "stream",
     "text": [
      "Pandas tocsv\n",
      "1 loop, best of 3: 2min 13s per loop\n",
      "Numpy savetxt\n",
      "1 loop, best of 3: 1min 30s per loop\n",
      "Oneliner with numpy tofile\n",
      "1 loop, best of 3: 36.6 s per loop\n",
      "Oneliner to string with Pyton f.write\n",
      "1 loop, best of 3: 53.4 s per loop\n",
      "Oneliner to string with Cython\n",
      "1 loop, best of 3: 37.4 s per loop\n"
     ]
    }
   ],
   "source": [
    "df = pd.DataFrame(np.random.randn(50000000,3))\n",
    "df=df.astype(str)\n",
    "print(\"Pandas tocsv\")\n",
    "%timeit -r3 df.to_csv('tocsv.csv',index=False) \n",
    "print(\"Numpy savetxt\")\n",
    "%timeit -r3 np.savetxt(\"numpytotxt.csv\", df.values, delimiter=\",\",fmt='%s')\n",
    "print(\"Oneliner with numpy tofile\")\n",
    "%timeit -r3 oneliner(df)\n",
    "print(\"Oneliner to string with Pyton f.write\")\n",
    "%timeit -r3 df_to_csv_one(df)\n",
    "print(\"Oneliner to string with Cython\")\n",
    "%timeit -r3 df_to_csv_cython(df)"
   ]
  },
  {
   "cell_type": "markdown",
   "metadata": {},
   "source": [
    "## Performance Summary"
   ]
  },
  {
   "cell_type": "markdown",
   "metadata": {},
   "source": [
    "* Pandas default to_csv is the slowest in all cases. However, it is the most convenient in terms handling all kinds of special cases such as quotation, missing value, etc. Recommended for general purposes.\n",
    "* Numpy alternatives are faster but additional cleaning is needed\n",
    "* When dealing with numbers, all oneliner alternatives are relatively slow because of the overhead of casting numbers to strings\n",
    "* One liner with Python f.write and Cython is faster with large narrow string dataframe and the performance is comparable"
   ]
  },
  {
   "cell_type": "markdown",
   "metadata": {},
   "source": [
    "### Conlusion"
   ]
  },
  {
   "cell_type": "markdown",
   "metadata": {},
   "source": [
    "* Pandas tocsv is recommended for general purpose when datatype is complicated.\n",
    "* Numpy savetxt has good performance if all data in the dataframe is number.\n",
    "* Oneliner is good option to deal with dataframe mainly with string."
   ]
  },
  {
   "cell_type": "markdown",
   "metadata": {},
   "source": [
    "| Methods       | DataFrame (100000,20)           | DataFrame (10000000,20)  | DataFrame (50000000,3) (String)\n",
    "| :------------- |:-------------:|: -----:|: -----:\n",
    "| Pandas tocsv      | 2.98 s | 4min 49s |2min 13s\n",
    "| Numpy savetxt      | 770 ms |   1min 15s   |   1min 30s \n",
    "| Oneliner with numpy tofile |   2.2 s    |   3min 38s  |36.6 s\n",
    "| Oneliner to string with Pyton f.write |   2.21    |    3min 55s |53.4 s\n",
    "| Oneliner to string with Cython |   2.4 s    |   3min 28s  |37.4 s"
   ]
  },
  {
   "cell_type": "markdown",
   "metadata": {},
   "source": [
    "## Test Environment"
   ]
  },
  {
   "cell_type": "markdown",
   "metadata": {},
   "source": [
    "Window 10 Pro \n",
    "\n",
    "CPU i7-7700 @ 3.6 GHz\n",
    "\n",
    "Python 3.6.1\n",
    "\n",
    "Numpy 1.13.3\n",
    "\n",
    "Pandas 0.20.1"
   ]
  },
  {
   "cell_type": "markdown",
   "metadata": {},
   "source": [
    "## Resources"
   ]
  },
  {
   "cell_type": "markdown",
   "metadata": {},
   "source": [
    "__[Cython with Anaconda on Windows](http://https://github.com/cython/cython/wiki/InstallingOnWindows)__<br>\n",
    "__[Using Microsoft Visual C with Python](https://matthew-brett.github.io/pydagogue/python_msvc.html)__\n"
   ]
  }
 ],
 "metadata": {
  "kernelspec": {
   "display_name": "Python 3",
   "language": "python",
   "name": "python3"
  },
  "language_info": {
   "codemirror_mode": {
    "name": "ipython",
    "version": 3
   },
   "file_extension": ".py",
   "mimetype": "text/x-python",
   "name": "python",
   "nbconvert_exporter": "python",
   "pygments_lexer": "ipython3",
   "version": "3.6.1"
  }
 },
 "nbformat": 4,
 "nbformat_minor": 2
}
